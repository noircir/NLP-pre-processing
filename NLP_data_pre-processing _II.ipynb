{
 "cells": [
  {
   "cell_type": "markdown",
   "metadata": {},
   "source": [
    "# NLP data pre-processing II: text cleaning and tokenizing"
   ]
  },
  {
   "cell_type": "markdown",
   "metadata": {},
   "source": [
    "### 1. Removing superfluous spaces (making text compact)"
   ]
  },
  {
   "cell_type": "code",
   "execution_count": 46,
   "metadata": {},
   "outputs": [],
   "source": [
    "import os\n",
    "import re\n",
    "import random\n",
    "import docx2txt"
   ]
  },
  {
   "cell_type": "code",
   "execution_count": 47,
   "metadata": {},
   "outputs": [],
   "source": [
    "def remove_space(text):\n",
    "    text = text.strip()\n",
    "    text = text.split()\n",
    "    return \" \".join(text)\n",
    "\n",
    "def show_random_text(sourceDir):\n",
    "    rand_text = random.choice(os.listdir(sourceDir))\n",
    "    \n",
    "    while rand_text[0] == \".\":\n",
    "        rand_text = random.choice(os.listdir(sourceDir))\n",
    "\n",
    "    with open(os.path.join(source_dir, rand_text), \"r\") as f:\n",
    "            data = f.read()\n",
    "    print(data)"
   ]
  },
  {
   "cell_type": "code",
   "execution_count": 48,
   "metadata": {},
   "outputs": [],
   "source": [
    "source_dir = os.path.join(os.getcwd(), \"text_files\")\n",
    "\n",
    "for filename in os.listdir(source_dir):\n",
    "            \n",
    "    # skip hidden files\n",
    "    if filename[0] != \".\":\n",
    "        \n",
    "        with open(os.path.join(source_dir, filename), \"r\") as f:\n",
    "            data = f.read()\n",
    "        \n",
    "        data = remove_space(data)\n",
    "        \n",
    "        with open(os.path.join(source_dir, filename),'w') as f:\n",
    "            f. write(data)"
   ]
  },
  {
   "cell_type": "markdown",
   "metadata": {},
   "source": [
    "### 2. Removing non-characters (dots, underscores, dollar symbols, digits)"
   ]
  },
  {
   "cell_type": "code",
   "execution_count": 57,
   "metadata": {},
   "outputs": [],
   "source": [
    "source_dir = os.path.join(os.getcwd(), \"text_files\")\n",
    "\n",
    "for filename in os.listdir(source_dir):\n",
    "            \n",
    "    if filename[0] != \".\":\n",
    "        \n",
    "        with open(os.path.join(source_dir, filename), \"r\") as f:\n",
    "            data = f.read()\n",
    "            \n",
    "            regex = re.compile(',-_\\:.!?')\n",
    "            data = regex.sub('', data)\n",
    "            data = re.sub(r'\\d+', '', data)\n",
    "        \n",
    "#         data = data.replace(\"_\", \"\")\n",
    "#         data = data.replace(\".\", \"\")\n",
    "#         data = data.replace(\"$\", \"\")\n",
    "        \n",
    "        with open(os.path.join(source_dir, filename),'w') as f:\n",
    "            f. write(data)"
   ]
  },
  {
   "cell_type": "code",
   "execution_count": 58,
   "metadata": {},
   "outputs": [
    {
     "name": "stdout",
     "output_type": "stream",
     "text": [
      "APPEL D’OFFRES NO DOCUMENT D’APPEL D’OFFRES (Sans contrat intégré) Page de Formulaire de soumission Clés en main (Haute Technologie) Version détaillée -- «Denom_Soc_D_O» APPEL D’OFFRES NO «AO_No» «AO_Titre» Documentation d’appel d’offres APPEL D’OFFRES NO DOCUMENTATION D’APPELS D’OFFRES CLÉS EN MAIN (HAUTE TECHNOLOGIE) FORMULAIRE DE SOUMISSION Version détaillée (--) . TABLE DES MATIÈRES PAGE PRÉAMBULE . INTERPRÉTATION . SOUMISSION . PRIX PROPOSÉ . Prix de base [Essentielle] . Ajustement [Essentielle] . MODALITÉS DE PAIEMENT . SÛRETÉS . Garantie de soumission [Facultative] . Garantie d'exécution [Essentielle] . ATTESTATIONS RÉCIPROQUES . ATTESTATIONS DE L'ORGANISME PUBLIC . ATTESTATIONS DU SOUMISSIONNAIRE . OBLIGATION(S) RÉCIPROQUE(S) . OBLIGATIONS DE L'ORGANISME PUBLIC . OBLIGATIONS DU SOUMISSIONNAIRE . DISPOSITIONS PARTICULIÈRES . DISPOSITIONS GÉNÉRALES . RETRAIT DE LA SOUMISSION . ENTRÉE EN VIGUEUR . DURÉE. . PORTÉE LISTE DES ANNEXES PAGE ANNEXE . - BORDEREAU DE PRIX [Importante] ANNEXE . - CAUTIONNEMENT DE SOUMISSION [Essentielle] ANNEXE . - ATTESTATION RELATIVE À LA PROBITÉ DU SOUMISSIONNAIRE [Essentielle] ANNEXE . - DÉCLARATION CONCERNANT LES ACTIVITÉS DE LOBBYISME EXERCÉES AUPRÈS DE L'ORGANISME PUBLIC RELATIVEMENT À L'APPEL D'OFFRES [Importante] ANNEXE . - ATTESTATION DE REVENU QUÉBEC [Essentielle] ANNEXE . - ABSENCE D'ÉTABLISSEMENT AU QUÉBEC [Essentielle] ANNEXE . - ENGAGEMENT DU SOUMISSIONNAIRE [Essentielle] ANNEXE . - EXTRAIT DE RÉSOLUTION [Facultative] ANNEXE . - QUESTIONNAIRE D'ÉVALUATION DE LA QUALITÉ [Importante] ANNEXE . - CERTIFICATION DE SYSTÈME D'ASSURANCE QUALITÉ [Essentielle] ANNEXE . - ATTESTATION OU CERTIFICAT DE L’OFFICE QUÉBÉCOIS DE LA LANGUE FRANÇAISE [Essentielle] ANNEXE . - PROGRAMME D'ÉGALITÉ EN EMPLOI [Essentielle] FORMULAIRE DE SOUMISSION se rapportant à l’appel d’offres no Numéro de l'appel d'offres. PRÉSENTÉ PAR : Nom du soumissionnaire : _______________________________________________________________ Adresse : ______________________________________________________________________________ Ville: ___________________________________________ Code postal: __________________________ Téléphone : _________________________________ Télécopieur : _______________________________ Site internet : ___________________________________________________________________________ Numéro d'entreprise (NEQ): ______________________________________________________________ TPS/TVH: ________________________________ TVQ: _______________________________________ STATUT JURIDIQUE ☐ Entreprise individuelle ☐ Personne physique n’exploitant pas une entreprise individuelle ☐ Société en nom collectif ☐ Société en commandite ☐ Société en participation (Coentreprise ou regroupement) (Joindre obligatoirement la liste des membres) ☐ Société par actions ☐ Régime fédéral ☐ Régime provincial ☐ Québec ☐ Autre (préciser) : ____________________________ Nom du représentant : ___________________________________________________________________ Titre : _________________________________________________________________________________ Courriel : ______________________________________________________________________________ Téléphone : ____________________________________________________________________________ Télécopieur : ___________________________________________________________________________ CI-APRÈS DÉNOMMÉ, LE «SOUMISSIONNAIRE» PRÉAMBULE Le SOUMISSIONNAIRE déclare ce qui suit : il a pris connaissance de l’Appel d’Offres émis par l’ORGANISME PUBLIC; en réponse à cet Appel d’Offres, il soumet la Soumission qui suit. INTERPRÉTATION Sous réserve des adaptations nécessaires, les dispositions d’interprétation du Formulaire de Soumission sont les mêmes que celles qui apparaissent aux parties . des Documents d’Appel d’Offres. SOUMISSION (Prix le plus bas - Note finale la plus élevée - Appel d'offres public) En réponse à la demande de propositions faite sur SEAO de la part de l’ORGANISME PUBLIC dans le cadre de l’appel d’offres no Numéro de l'appel d'offres, le SOUMISSIONNAIRE dépose par la présente son offre de contracter à l’intention de l’ORGANISME PUBLIC, conforme à ses exigences, contenant tous les éléments d’information demandés par ce dernier visant à compléter le Contrat étant entendu que, sur acceptation de celle-ci par l’ORGANISME PUBLIC, les deux PARTIES deviennent liées par ce dernier sans autre avis ni formalité. OU (Prix le plus bas - Note finale la plus élevée - Sur invitation) En réponse à la demande de propositions faite sur invitation de la part de l’ORGANISME PUBLIC dans le cadre de l’appel d’offres no Numéro de l'appel d'offres, le SOUMISSIONNAIRE dépose par la présente son offre de contracter à l’intention de l’ORGANISME PUBLIC, conforme à ses exigences, contenant tous les éléments d’information demandés par ce dernier visant à compléter le Contrat étant entendu que, sur acceptation de celle-ci par l’ORGANISME PUBLIC, les deux PARTIES deviennent liées par ce dernier sans autre avis ni formalité. OU (Prix le plus bas & qualité minimale - Prix ajusté le plus bas - Appel d'offres public) En réponse à la demande de propositions faite sur SEAO de la part de l’ORGANISME PUBLIC dans le cadre de l’appel d’offres no Numéro de l'appel d'offres, le SOUMISSIONNAIRE dépose par la présente sa Soumission, sur la base des documents exigés dans l’Appel d’Offres, comprenant notamment son « offre qualitative » présentée dans le Questionnaire d’évaluation de la qualité reproduite à l’annexe . des présentes et son « offre financière » qui est soumise dans une enveloppe distincte et scellée étant entendu que l’ensemble constitue son offre de contracter à l’intention de l’ORGANISME PUBLIC et que sur acceptation par ce dernier de la Soumission les deux PARTIES deviennent liées par le Contrat sans autre avis ni formalité. OU (Prix le plus bas & qualité minimale - Prix ajusté le plus bas - Sur invitation ) En réponse à la demande de propositions faite sur invitation de la part de l’ORGANISME PUBLIC dans le cadre de l’appel d’offres no Numéro de l'appel d'offres, le SOUMISSIONNAIRE dépose par la présente sa Soumission, sur la base des documents exigés dans l’Appel d’Offres, comprenant notamment son « offre qualitative » présentée dans le Questionnaire d’évaluation de la qualité reproduite à l’annexe . des présentes et son « offre financière » qui est soumise dans une enveloppe distincte et scellée étant entendu que l’ensemble constitue son offre de contracter à l’intention de l’ORGANISME PUBLIC et que sur acceptation par ce dernier de la Soumission les deux PARTIES deviennent liées par le Contrat sans autre avis ni formalité. PRIX PROPOSÉ Prix de base [Essentielle] Le SOUMISSIONNAIRE déclare avoir pris connaissance du Devis ainsi que tout Addenda s’y rapportant et être en mesure d’établir à la lumière de son contenu un prix pour les Biens et les Services recherchés, lequel prix prend en compte les inclusions indiquées dans les Documents d’Appel d’Offres. Le prix proposé à l’ORGANISME PUBLIC est présenté dans le Bordereau de Prix reproduit à l’annexe . des présentes. Ajustement [Essentielle] Le SOUMISSIONNAIRE reconnaît et accepte que le(s) prix énoncé(s) est(sont) toutefois sujet(s) aux ajustements indiqués dans le Contrat. MODALITÉS DE PAIEMENT Le SOUMISSIONNAIRE prend acte des modalités de paiement indiquées aux parties . des Documents d’Appels d’Offres et s’en déclare satisfait. SÛRETÉS Garantie de soumission [Facultative] (Affirmative - Avec cautionnement de soumission ou effet de commerce) Tel que requis par les Documents d’Appel d’Offres, nous joignons la garantie de soumission suivante : ☐ Chèque certifié ☐ Mandat-poste ☐ Traite bancaire ☐ Cautionnement de soumission (annexe .) OU (Affirmative - Avec cautionnement de soumission seulement) Tel que requis par les Documents d’Appel d’Offres, nous joignons la garantie de soumission sous la forme d'un cautionnement de soumission (annexe .). OU (Affirmative - Avec cautionnement de soumission seulement) Tel que requis par les Documents d’Appel d’Offres, nous joignons la garantie de soumission sous la forme d'un cautionnement de soumission (annexe .). OU (Négative) Le SOUMISSIONNAIRE prend acte qu’aucune garantie de soumission n’est requise dans le cadre de l’Appel d’Offres. Garantie d'exécution [Essentielle] (Affirmative) Tel que requis par les Documents d’Appel d’Offres, nous nous engageons à fournir à l’ORGANISME PUBLIC une garantie d’exécution conformément aux exigences des sections . des Documents d’Appel d’Offres. OU (Négative) Le SOUMISSIONNAIRE prend acte qu’aucune garantie d’exécution n’est requise dans le cadre de l’Appel d’Offres. ATTESTATIONS RÉCIPROQUES Le SOUMISSIONNAIRE prend acte des attestations réciproques indiquées aux parties . des Documents d’Appel d’Offres et s’en déclare satisfait. ATTESTATIONS DE L'ORGANISME PUBLIC Le SOUMISSIONNAIRE prend acte des attestations de l’ORGANISME PUBLIC indiquées aux parties . des Documents d’Appel d’Offres et s’en déclare satisfait. ATTESTATIONS DU SOUMISSIONNAIRE (Prix le plus bas) Le SOUMISSIONNAIRE prend acte des attestations du SOUMISSIONNAIRE/FOURNISSEUR indiquées aux parties . des Documents d’Appel d’Offres et déclare celles-ci exactes. Il produit en annexe des présentes, tel qu’exigé par les Documents d’Appel d’Offres, les documents suivants dont il atteste de l’exactitude, à savoir: le formulaire «Bordereau de Prix»; la garantie de soumission; le formulaire «Attestation relative à la Probité du Soumissionnaire »; le formulaire «Déclaration Concernant les Activités de Lobbyisme»; l’attestation de Revenu Québec, s’il a un établissement au Québec; le formulaire « Absence d’établissement au Québec », s’il n’a pas d’établissement au Québec où il exerce ses activités de façon permanente, clairement identifié à son nom et accessible durant les heures normales de bureau; l'extrait de résolution; une copie de son certificat d’enregistrement indiquant qu'il possède le système d'assurance qualité requis; l'Attestation ou le certificat de l’Office québécois de la langue française; le formulaire «Programme d’égalité en emploi»; OU (Si évaluation qualitative) Le SOUMISSIONNAIRE prend acte des attestations du SOUMISSIONNAIRE/FOURNISSEUR indiquées aux parties . des Documents d’Appel d’Offres et déclare celles-ci exactes. Il produit en annexe des présentes, tel qu’exigé par les Documents d’Appel d’Offres, les documents suivants dont il atteste de l’exactitude, à savoir: le formulaire «Bordereau de Prix»; (Enveloppe B - Offre financière) la garantie de soumission; (Enveloppe A - Offre qualitative) le formulaire «Attestation relative à la Probité du Soumissionnaire»; (Enveloppe A - Offre qualitative) le formulaire «Déclaration Concernant les Activités de Lobbyisme»; (Enveloppe A - Offre qualitative) l’attestation de Revenu Québec, s’il a un établissement au Québec; (Enveloppe A - Offre qualitative) le formulaire «Absence d’établissement au Québec», s’il n’a pas d’établissement au Québec où il exerce ses activités de façon permanente, clairement identifié à son nom et accessible durant les heures normales de bureau; (Enveloppe A - Offre qualitative) l'extrait de résolution; (Enveloppe A - Offre qualitative) le formulaire «Engagement du soumissionnaire»; (Enveloppe A - Offre qualitative) le Questionnaire d’évaluation de la qualité; (Enveloppe A - Offre qualitative) une copie de son certificat d’enregistrement indiquant qu'il possède le système d'assurance qualité requis; (Enveloppe A - Offre qualitative) l'Attestation ou le certificat de l’Office québécois de la langue française; (Enveloppe A - Offre qualitative) le formulaire «Programme d’égalité en emploi»; (Enveloppe A - Offre qualitative) OBLIGATION(S) RÉCIPROQUE(S) Le SOUMISSIONNAIRE prend acte des obligations réciproques indiquées aux Documents d’Appels d’Offres et s’en déclare satisfait en plus de s’engager à les respecter. OBLIGATIONS DE L'ORGANISME PUBLIC Le SOUMISSIONNAIRE prend acte des obligations de l’ORGANISME PUBLIC indiquées aux Documents d’Appels d’Offres et s’en déclare satisfait. OBLIGATIONS DU SOUMISSIONNAIRE Le SOUMISSIONNAIRE prend acte des obligations du SOUMISSIONNAIRE/FOURNISSEUR indiquées aux parties . des Documents d’Appels d’Offres qu’il s’engage à respecter. DISPOSITIONS PARTICULIÈRES Le SOUMISSIONNAIRE prend acte des dispositions particulières indiquées aux Documents d’Appels d’Offres et s’en déclare satisfait en plus de s’engager à les respecter. DISPOSITIONS GÉNÉRALES Le SOUMISSIONNAIRE prend acte des dispositions générales indiquées aux Documents d’Appels d’Offres et s’en déclare satisfait en plus de s’engager à les respecter. RETRAIT DE LA SOUMISSION (Sans garantie d'exécution) Le SOUMISSIONNAIRE reconnaît que sa Soumission constitue, à compter de l’ouverture des Soumissions, une offre irrévocable de contracter et qu’il ne peut plus retirer celle-ci. Si sa Soumission est acceptée et qu’il refuse d’honorer ses obligations en vertu du Contrat, l’ORGANISME PUBLIC peut lui réclamer des dommages-intérêts. OU (Si garantie d'exécution) Le SOUMISSIONNAIRE reconnaît que sa Soumission constitue, à compter de l’ouverture des Soumissions, une offre irrévocable de contracter et qu’il ne peut plus retirer celle-ci. Si sa Soumission est acceptée et qu’il refuse d’honorer ses obligations en vertu du Contrat, l’ORGANISME PUBLIC peut, outre l'encaissement ou l'exécution de toute garantie consentie par le SOUMISSIONNAIRE, lui réclamer des dommages-intérêts. ENTRÉE EN VIGUEUR La Soumission entre en vigueur à compter de son dépôt au lieu ainsi qu'à la date indiqués dans les Documents d’Appel d’Offres. DURÉE. La Soumission demeure en vigueur pour la période indiquée à la clause «Durée de validité» prévue à la partie . du document Régie. PORTÉE La Soumission constitue une acceptation formelle du Contrat par le SOUMISSIONNAIRE, sujet aux éléments qu’elle contient visant à compléter ce dernier lorsque requis, étant entendu qu’une fois acceptée par l’ORGANISME PUBLIC, elle devient partie du Contrat auquel le SOUMISSIONNAIRE adhère, sans réserve, à toutes fins que de droit. EN FOI DE QUOI, LE SOUMISSIONNAIRE, PAR L’ENTREMISE DE SON REPRÉSENTANT DÛMENT AUTORISÉ, A SIGNÉ CETTE SOUMISSION POUR FIN DE CONFORMITÉ DE CELLE-CI ET EN GUISE D’ADHÉSION AU CONTRAT, À ............................, CE …E JOUR DE ............................ … . LE SOUMISSIONNAIRE Par : _________________________________________ (Signature) _________________________________________ (Nom en lettres moulées) _________________________________________ (Fonction en lettres moulées) IMPORTANT L'absence de signature constitue un cas de non-conformité d'une Soumission. ANNEXE . - BORDEREAU DE PRIX [Importante] - Titre : Titre de l'appel d'offres - Numéro : Numéro de l'appel d'offres BIENS LIVRABLES QUANTITÉ ESTIMÉE () PRIX UNITAIRE SOUS-TOTAL x = x = x = x = x = MONTANT TOTAL * les colonnes «Biens livrables» et «Quantité estimée» sont à compléter par l’ORGANISME PUBLIC. LE SOUMISSIONNAIRE S’ENGAGE À EXÉCUTER LE PROJET POUR LE MONTANT TOTAL INDIQUÉ CI-DESSOUS, EXCLUANT LES TAXES APPLICABLES: (en lettres) (en chiffres) EN FOI DE QUOI, LE SOUMISSIONNAIRE PAR SON REPRÉSENTANT DÛMENT AUTORISÉ A SIGNÉ LES PRÉSENTES À ............................, CE …E JOUR DE ............................ … . LE SOUMISSIONNAIRE Par: ....................................................................................................................... (Signature) ....................................................................................................................... (Nom en lettres moulées) ....................................................................................................................... (Fonction) () Sauf indication contraire dans les Documents d’Appels d’Offres, les quantités estimées sont indiqués afin de calculer le plus bas prix et ne représentent nullement un engagement de la part de l’ORGANISME PUBLIC. IMPORTANT Lorsque l’adjudication du Contrat implique une évaluation de la qualité, cette annexe doit être détachée du Formulaire de Soumission et déposée dans une enveloppe distincte de celle portant le Formulaire de Soumission. (Avec bordereau de prix que vous annexerez à la documentation d'appel d'offres) - Titre : Titre de l'appel d'offres - Numéro : Numéro de l'appel d'offres IMPORTANT Cette annexe doit être détachée du Formulaire de Soumission et déposée dans une enveloppe distincte (Enveloppe B - offre financière) puisque l’adjudication du Contrat implique une évaluation de la qualité. (Avec bordereau de prix que vous annexerez à la documentation d'appel d'offres) - Titre : Titre de l'appel d'offres - Numéro : Numéro de l'appel d'offres (Avec fichier Excel, ou autre, que vous annexerez à votre documentation d'appel d'offres) - Titre : Titre de l'appel d'offres - Numéro : Numéro de l'appel d'offres IMPORTANT - Le contenu de cette annexe se retrouve dans le fichier Excel, ou autre, nommé «Bordereau de Prix», joint avec la documentation d'appel d'offres. - Vous devez compléter ce fichier électronique. - Une fois complété, ce fichier électronique doit être imprimé et joint au Formulaire de Soumission, tel qu'indiqué dans le document d'appel d'offres. (Avec fichier Excel, ou autre, que vous annexerez à votre documentation d'appel d'offres) - Titre : Titre de l'appel d'offres - Numéro : Numéro de l'appel d'offres IMPORTANT - Le contenu de cette annexe se retrouve dans le fichier Excel, ou autre, nommé «Bordereau de Prix», joint avec la documentation d'appel d'offres. - Vous devez compléter ce fichier électronique. - Une fois complétée et signée, cette annexe doit être détachée du Formulaire de Soumission et déposée dans une enveloppe distincte (Enveloppe B - offre financière) puisque l'adjudication du Contrat implique une évaluation de la qualité. ANNEXE . - CAUTIONNEMENT DE SOUMISSION [Essentielle] (Forfaitaire) La . . . . . . . . . . . . . . . . . . . . . . . . . . . . . . . . . . ., dont le principal établissement est situé à . . . . . . . . . . . . . . . . . . . . . . . . . . . . . . . . . . . . . . . . . . . . . . . . . . . . . . . . . . . . . . . . . . . . . ., ici représentée par . . . . . . . . . . . . . . . . . . . . . . . . . . . . . . . . . . ., dûment autorisé(e), (ci-après appelée la Caution), après avoir pris connaissance de la soumission devant être présentée au plus tard le ...................................... au/à Dénomination sociale, ci-après appelé l’ Organisme public , par . . . . . . . . . . . . . . . . . . . . . . . . . . . . . . . . . . ., (nom du Soumissionnaire), dont le principal établissement est situé à . . . . . . . . . . . . . . . . . . . . . . . . . . . . . . . . . . . . . . . . . . . . . . . . . . . . . . . . . . . . . . . . . . . . . ., ici représenté(e) par . . . . . . . . . . . . . . . . . . . . . . . . . . . . . . . . . . ., dûment autorisé(e), (ci-après appelé le Soumissionnaire ), pour l'appel d’offres no Numéro de l'appel d'offres se rapportant à l'acquisition Biens ou Ouvrage visé(s) se porte caution du Soumissionnaire, envers l’organisme public, aux conditions suivantes : La Caution, à défaut de la part du Soumissionnaire de signer un contrat conforme à sa soumission ou à défaut de fournir les garanties requises, le cas échéant, dans les Délai de transmission de la garantie d'exécution jours de la date d'acceptation, s'oblige à payer à l’Organisme public une somme d'argent représentant la différence entre le montant de la soumission qui avait été acceptée et celui de la soumission subséquemment acceptée par l’Organisme public, sa responsabilité étant limitée à Montant forfaitaire de la garantie si déposée sous forme de cautionnement Le Soumissionnaire dont la soumission a été acceptée devra être avisé de l'acceptation de sa soumission dans les .. - Durée de validité de la soumission jours qui suivent la date limite de la réception des soumissions, sous réserve de toute prolongation de la durée de validité des soumissions, autrement la présente obligation est nulle et de nul effet. Ce cautionnement est régi par le droit applicable au Québec et, en cas de contestation, les tribunaux du Québec seront seuls compétents. La Caution renonce au bénéfice de discussion et de division. Le Soumissionnaire intervient aux présentes pour y consentir et, à défaut par lui de ce faire, la présente obligation est nulle et de nul effet. EN FOI DE QUOI, LA CAUTION ET LE SOUMISSIONNAIRE PAR LEURS REPRÉSENTANTS DÛMENT AUTORISÉS, ONT SIGNÉ LES PRÉSENTES À ............................, CE …E JOUR DE ............................ … . CAUTION ___________________________ Par: ___________________________ Témoin ......................... SOUMISSIONNAIRE ___________________________ Par: ___________________________ Témoin ......................... (Prix le plus bas - Pourcentage) La . . . . . . . . . . . . . . . . . . . . . . . . . . . . . . . . . . ., dont le principal établissement est situé à . . . . . . . . . . . . . . . . . . . . . . . . . . . . . . . . . . . . . . . . . . . . . . . . . . . . . . . . . . . . . . . . . . . . . . . . . . . . . . . ., ici représentée par . . . . . . . . . . . . . . . . . . . . . . . . . . . . . . . . . . ., dûment autorisé(e), (ci-après appelée la Caution), après avoir pris connaissance de la soumission devant être présentée au plus tard le...................................... au/à Dénomination sociale, ci-après appelé l’ Organisme public, par . . . . . . . . . . . . . . . . . . . . . . . . . . . . . . . . . . ., (nom du Soumissionnaire), dont le principal établissement est situé à . . . . . . . . . . . . . . . . . . . . . . . . . . . . . . . . . . . . . . . . . . . . . . . . . . . . . . . . . . . . . . . . . . . . . . . . . . . . . . . . . . . . ., ici représenté(e) par . . . . . . . . . . . . . . . . . . . . . . . . . . . . . . . . . . ., dûment autorisé(e), (ci-après appelé le Soumissionnaire ), pour l'appel d’offres no Numéro de l'appel d'offres se rapportant à l'acquisition Biens ou Ouvrage visé(s) se porte caution du Soumissionnaire, envers l’organisme public, aux conditions suivantes : La Caution, à défaut de la part du Soumissionnaire de signer un contrat conforme à sa soumission ou à défaut de fournir les garanties requises, le cas échéant, dans les Délai de transmission de la garantie d'exécution jours de la date d'acceptation, s'oblige à payer à l’Organisme public une somme d'argent représentant la différence entre le montant de la soumission qui avait été acceptée et celui de la soumission subséquemment acceptée par l’Organisme public, sa responsabilité étant limitée à Pourcentage de la garantie de soumission du Pourcentage de soumission - Objet Le Soumissionnaire dont la soumission a été acceptée devra être avisé de l'acceptation de sa soumission dans les .. - Durée de validité de la soumission jours qui suivent la date limite de la réception des soumissions, sous réserve de toute prolongation de la durée de validité des soumissions, autrement la présente obligation est nulle et de nul effet. Ce cautionnement est régi par le droit applicable au Québec et, en cas de contestation, les tribunaux du Québec seront seuls compétents. La Caution renonce au bénéfice de discussion et de division. Le Soumissionnaire intervient aux présentes pour y consentir et, à défaut par lui de ce faire, la présente obligation est nulle et de nul effet. EN FOI DE QUOI, LA CAUTION ET LE SOUMISSIONNAIRE PAR LEURS REPRÉSENTANTS DÛMENT AUTORISÉS, ONT SIGNÉ LES PRÉSENTES À ............................, CE …E JOUR DE ............................ … . CAUTION ___________________________ Par: ___________________________ Témoin ......................... SOUMISSIONNAIRE ___________________________ Par: ___________________________ Témoin ......................... ANNEXE . - ATTESTATION RELATIVE À LA PROBITÉ DU SOUMISSIONNAIRE [Essentielle] Titre : Titre de l'appel d'offres Numéro : Numéro de l'appel d'offres Je, soussigné(e), , (nom et titre de la personne autorisée par le soumissionnaire) en présentant à l’ORGANISME PUBLIC la Soumission ci-jointe (ci-après appelée la « Soumission »), atteste que les déclarations ci-après sont vraies et complètes à tous les égards, au nom de , (nom du soumissionnaire) (ci-après appelé le « SOUMISSIONNAIRE »). Je déclare ce qui suit : . J’ai lu et je comprends la présente attestation. . Je sais que la Soumission sera rejetée si les déclarations contenues à la présente attestation ne sont pas vraies ou complètes à tous les égards. . Je reconnais que la présente attestation peut être utilisée à des fins judiciaires. . Je suis autorisé(e) par le SOUMISSIONNAIRE à signer la présente attestation. . La ou les personnes, selon le cas, dont le nom apparaît sur la Soumission, a ou ont été autorisée(s) par le SOUMISSIONNAIRE à fixer les modalités qui y sont prévues et à signer la Soumission en son nom. . Aux fins de la présente attestation et de la Soumission, je comprends que le mot « concurrent » s’entend de toute société de personnes ou de toute personne, autre que le SOUMISSIONNAIRE, liée ou non, au sens du deuxième alinéa du point , à celui-ci : a) qui a été invitée à présenter une soumission; b) qui pourrait éventuellement présenter une Soumission à la suite de l’appel d’offres compte tenu de ses qualifications, de ses habiletés ou de son expérience. . Le SOUMISSIONNAIRE a établi la présente soumission sans collusion et sans avoir établi d’entente ou d’arrangement avec un concurrent allant à l’encontre de la Loi sur la concurrence (L.R.C. (), chapitre C-), notamment quant : • aux prix; • aux méthodes, aux facteurs ou aux formules utilisés pour établir les prix; • à la décision de présenter, de ne pas présenter ou de retirer une soumission; • à la présentation d’une soumission qui, volontairement, ne répond pas aux spécifications de l’Appel d’Offres. . Sauf en ce qui concerne la conclusion éventuelle d’un sous-contrat, les modalités de la Soumission n’ont pas été et ne seront pas intentionnellement divulguées par le SOUMISSIONNAIRE, directement ou indirectement, à un concurrent avant l’heure et la date limites fixées pour la réception des soumissions, à moins d’être requis de le faire par la loi. . Veuillez cocher l’une des trois options suivantes : ☐ Ni le SOUMISSIONNAIRE, ni une personne liée à celui-ci n’ont été déclarés coupables dans les cinq () années précédant la date de présentation de la Soumission, d’un acte criminel ou d’une infraction prévu(e) : • aux articles à et aux articles , , , , , , , , , , , , , , , , ., , , , , , ., à * et . à . du Code criminel (L.R.C. , chapitre C-); • aux articles , et de la Loi sur la concurrence relativement à un appel d’offres public ou à un contrat d’une administration publique au Canada; • à l’article de la Loi sur la corruption d’agents publics étrangers (L.C. , chapitre ); • aux articles , et de la Loi réglementant certaines drogues et autres substances (L.C. , chapitre ); • aux articles ., ., , .., ., , .. et .. de la Loi sur l’administration fiscale (RLRQ, chapitre A-.); • à l’article de la Loi concernant la taxe sur les carburants (RLRQ, chapitre T-); • aux articles () a) à () e), (.), (.), (.) a), (.) b), (.) et (.) de la Loi de l’impôt sur le revenu (L.R.C. (), chapitre , e supplément); • aux articles () a) à () e) de la Loi sur la taxe d’accise (L.R.C. (), ch. E-); • à l’article b) de la Loi sur l’assurance-dépôts (RLRQ, chapitre A-); • à l’article c) de la Loi sur les assurances (RLRQ, chapitre A-); • aux articles ., ., . et . de la Loi sur les contrats des organismes publics (RLRQ, chapitre C-.); • à l’article de la Loi sur les coopératives de services financiers (RLRQ, chapitre C-.); • aux articles avec et . de la Loi sur la distribution de produits et services financiers (RLRQ, chapitre D‑.); • aux articles ° à ° et . ° de la Loi sur les élections et les référendums dans les municipalités (RLRQ, chapitre E-.); • aux articles . ° à . ° de la Loi sur les élections scolaires (RLRQ, chapitre E-.); • aux articles . °, . ° et . de la Loi électorale (RLRQ, chapitre E-.); • à l’article ° de la Loi sur les entreprises de services monétaires (RLRQ, chapitre E-.); • aux articles avec , , ., °, et de la Loi sur les instruments dérivés (RLRQ, chapitre I-.); • aux articles , . et ° de la Loi sur les relations du travail, la formation professionnelle et la gestion de la main-d’œuvre dans l’industrie de la construction (RLRQ, chapitre R-); • à l’article de la Loi sur les sociétés de fiducie et les sociétés d’épargne (RLRQ, chapitre S‑.); • aux articles avec , , , ., , °, ., , et . de la Loi sur les valeurs mobilières (RLRQ, chapitre V-.); • à l’article . du Règlement sur certains contrats d’approvisionnement des organismes publics (RLRQ, chapitre C-., r.) concernant une violation des articles . et . de ce règlement; • à l’article . du Règlement sur certains contrats de services des organismes publics (RLRQ, chapitre C-., r.) concernant une violation des articles . et . de ce règlement; • à l’article . du Règlement sur les contrats de travaux de construction des organismes publics (RLRQ, chapitre C-., r.) concernant une violation des articles . et . de ce règlement; • à l’article du Règlement sur les contrats des organismes publics en matière de technologies de l'information (RLRQ, chapitre C-., r..) concernant une violation des articles et de ce règlement; • à l’article du Règlement sur les contrats d’approvisionnement, de services et de travaux de construction des organismes visés à l’article de la Loi sur les contrats des organismes publics (RLRQ, chapitre C-., r..) concernant une violation des articles et de ce règlement; • à l’article du Règlement sur les contrats de construction des organismes municipaux (RLRQ, chapitre C-, r.) concernant une violation des articles et de ce règlement. ☐ ayant été déclaré coupable d’un tel acte criminel ou d’une telle infraction, le SOUMISSIONNAIRE ou une personne qui lui est liée, en a obtenu la réhabilitation ou le pardon. ☐ malgré que le SOUMISSIONNAIRE ou une personne qui lui est liée ait été déclaré coupable d’un tel acte criminel ou d’une telle infraction, une autorisation de contracter a été délivrée au SOUMISSIONNAIRE ou l’autorisation de contracter que celui-ci détient n’a pas été révoquée. • Aux fins de la présente attestation, les articles à du Code criminel s’appliquent uniquement à l’égard des actes criminels et des infractions mentionnés ci-dessus. Pour l’application de la présente attestation, on entend par personne liée : lorsque le SOUMISSIONNAIRE est une personne morale, un de ses administrateurs et, le cas échéant, un de ses autres dirigeants, de même que la personne qui détient des actions de son capital-actions qui lui confèrent au moins % des droits de vote pouvant être exercés en toutes circonstances rattachés aux actions de la personne morale, et lorsque le SOUMISSIONNAIRE est une société en nom collectif, en commandite ou en participation, un de ses associés et, le cas échéant, un de ses autres dirigeants. L’infraction commise par un administrateur, un associé ou un des autres dirigeants du SOUMISSIONNAIRE doit l’avoir été dans le cadre de l’exercice des fonctions de cette personne au sein du SOUMISSIONNAIRE. Je reconnais ce qui suit : . Si l’ORGANISME PUBLIC découvre, malgré la présente attestation, qu’il y a eu déclaration de culpabilité à l’égard d’un acte criminel ou d’une infraction mentionné(e) au point , le contrat qui pourrait avoir été accordé au SOUMISSIONNAIRE dans l’ignorance de ce fait pourra être résilié et des poursuites en dommages-intérêts pourront être intentées contre le SOUMISSIONNAIRE et quiconque en sera partie. Dans l’éventualité où le SOUMISSIONNAIRE ou une personne qui lui est liée serait déclaré(e) coupable d’un acte criminel ou d’une infraction mentionné(e) au point en cours d’exécution du contrat, le contrat pourra être résilié par l’ORGANISME PUBLIC. Et j'ai signé : _________________________ _________________________ Date Signature ANNEXE . - DÉCLARATION CONCERNANT LES ACTIVITÉS DE LOBBYISME EXERCÉES AUPRÈS DE L'ORGANISME PUBLIC RELATIVEMENT À L'APPEL D'OFFRES [Importante] Titre : Titre de l'appel d'offres Numéro : Numéro de l'appel d'offres Je, soussigné(e), ........................................ (nom de la personne autorisée par le soumissionnaire), ............................ (titre), en présentant à l’organisme public la soumission ci-jointe (ci-après appelée la « soumission »), à la suite de l’appel d’offres lancé par ............................ (Nom de l’organisme public), atteste que les déclarations ci-après sont vraies et complètes à tous les égards AU NOM DE : ................................................................................ (NOM DU SOUMISSIONNAIRE), (ci-après appelé le « Soumissionnaire »); Je déclare ce qui suit : J’ai lu et je comprends le contenu de la présente déclaration; Je suis autorisé(e) par le soumissionnaire à signer la présente déclaration et à présenter, en son nom, la soumission qui y est jointe; Toutes les personnes dont le nom apparaît sur la soumission ci-jointe ont été autorisées par le soumissionnaire à fixer les modalités qui y sont prévues et à signer la soumission en son nom; Le soumissionnaire déclare (cocher l’une ou l’autre des déclarations suivantes) : ☐ que personne n’a exercé pour son compte, que ce soit à titre de lobbyiste d’entreprise ou de lobbyiste-conseil, des activités de lobbyisme, au sens de la Loi sur la transparence et l’éthique en matière de lobbyisme (RLRQ, chapitre T-.) et des avis émis par le Commissaire au lobbyisme*, préalablement à cette déclaration relativement au présent appel d’offres; ☐ que des activités de lobbyisme, au sens de la Loi sur la transparence et l’éthique en matière de lobbyisme et des avis émis par le Commissaire au lobbyisme*, ont été exercées pour son compte et qu’elles l’ont été en conformité avec cette loi, avec ces avis ainsi qu’avec le Code de déontologie des lobbyistes* (RLRQ, chapitre T-., r.). Je reconnais que, si l’organisme public a des motifs raisonnables de croire que des communications d’influence non conformes à la Loi sur la transparence et l’éthique en matière de lobbyisme et au Code de déontologie des lobbyistes* ont eu lieu pour obtenir le contrat, une copie de la présente déclaration pourra être transmise au Commissaire au lobbyisme par l’organisme public. et j'ai signé: _________________________ _________________________ Signature Date La Loi, le Code et les avis émis par le Commissaire au lobbyisme sont disponibles à cette adresse : www.commissairelobby.qc.ca ANNEXE . - ATTESTATION DE REVENU QUÉBEC [Essentielle] (Le soumissionnaire doit joindre ici son attestation) ANNEXE . - ABSENCE D'ÉTABLISSEMENT AU QUÉBEC [Essentielle] Titre : Titre de l'appel d'offres Numéro : Numéro de l'appel d'offres Tout Soumissionnaire ayant un établissement au Québec doit transmettre à l’ORGANISME PUBLIC, avec sa soumission, une attestation de Revenu Québec valide. Tout Soumissionnaire n’ayant pas un établissement au Québec où il exerce ses activités de façon permanente, clairement identifié à son nom et accessible durant les heures normales de bureau, doit remplir et signer le présent formulaire et le produire avec sa soumission. Je, soussigné(e), .................................................. (nom de la personne autorisée par le soumissionnaire), ...................... (titre), En présentant à l’organisme public la soumission ci-jointe (ci-après appelée la « soumission ») Atteste que les déclarations ci-après sont complètes et exactes. AU NOM DE : ................................................................................ (NOM DU SOUMISSIONNAIRE), (ci-après appelé le «Soumissionnaire») Je déclare ce qui suit : le Soumissionnaire n’a pas d’établissement au Québec où il exerce ses activités de façon permanente, clairement identifié à son nom et accessible durant les heures normales de bureau. je suis autorisé(e) par le Soumissionnaire à signer cette déclaration et à présenter, en son nom la soumission. je reconnais que le Soumissionnaire sera inadmissible à présenter une soumission en l’absence du présent formulaire ou de l’attestation délivrée par Revenu Québec. Et j'ai signé : ________________________________ ________________________________ Date Signature ANNEXE . - ENGAGEMENT DU SOUMISSIONNAIRE [Essentielle] Titre : Titre de l'appel d'offres Numéro : Numéro de l'appel d'offres En mon nom personnel ou au nom du soumissionnaire que je représente : Je déclare : avoir reçu et pris connaissance de tous les documents afférents au projet en titre, lesquels font partie intégrante du contrat à être adjugé; avoir pris les renseignements nécessaires sur la nature des biens à fournir et les exigences du projet; être autorisé à signer ce document. Je m’engage, en conséquence : à effectuer les tâches décrites dans les documents reçus ainsi que tout autre travail qui pourrait être exigé suivant l’esprit de ces documents; à respecter toutes les conditions et spécifications apparaissant auxdits documents; à respecter la soumission présentée en réponse à cet appel d’offres; à exécuter le projet pour le prix soumis* dans le bordereau de prix. Je certifie que la soumission et le prix soumis* sont valides pour une période de .. - Durée de validité de la soumission jours à partir de l’heure et de la date limites fixées pour la réception des soumissions, sous réserve de toute prolongation, si prévu dans les Documents d'Appel d'Offres. Je conviens que le prix soumis* dans l’offre de prix sous pli séparé inclut le coût de la main-d’œuvre et de l’équipement (si requis) nécessaires à l’exécution du contrat de même que les frais généraux, les frais d’administration, les frais de déplacement, les avantages sociaux, les profits et les autres frais indirects inhérents au contrat et, lorsqu’ils s’appliquent, les frais et les droits de douane, les permis, les licences et les assurances. Nom du soumissionnaire : __________________________________________________________ Adresse : ______________________________________________________________________________ Courriel : ____________________________________________________________________________ Télécopieur : ___________________________________________________________________________ Nom du signataire (en lettres moulées): _____________________________________________________ _________________________ _________________________ Date Signature * Montant excluant les taxes. ANNEXE . - EXTRAIT DE RÉSOLUTION [Facultative] IL EST RÉSOLU : QUE la Société intervienne à l’appel d’offres no Numéro de l'appel d'offres, se rapportant à l'acquisition Biens ou Ouvrage visé(s) . QUE M. [ou Mme] ........................................... (indiquer le nom), ........................................... (indiquer la fonction), soit autorisé(e) par la présente à signer, pour et au nom de cette dernière, la Soumission et, s’il y a lieu, les ententes à intervenir suite à cet Appel d’Offres ainsi que tout document accessoire, nécessaire ou utile, afin de donner suite à la présente résolution. Je certifie que ce qui précède est une copie fidèle d'une résolution adoptée par l'administrateur unique [ou les administrateurs] de ....................................................., en date du ........................................... …, conformément à la Loi, aux documents constitutifs et aux règlements régissant celle-ci, cette résolution étant présentement en vigueur pour n'avoir été ni amendée, abrogée ou modifiée de quelque manière depuis son adoption. DATÉE CE ........................................... ... ______________________________________ ..................................................., secrétaire ANNEXE . - QUESTIONNAIRE D'ÉVALUATION DE LA QUALITÉ [Importante] (Si évaluation qualitative) ANNEXE . - CERTIFICATION DE SYSTÈME D'ASSURANCE QUALITÉ [Essentielle] ANNEXE . - ATTESTATION OU CERTIFICAT DE L’OFFICE QUÉBÉCOIS DE LA LANGUE FRANÇAISE [Essentielle] ANNEXE . - PROGRAMME D'ÉGALITÉ EN EMPLOI [Essentielle] IDENTIFICATION ET ENGAGEMENT L’entreprise québécoise ayant à son emploi plus de employé(e)s au Québec, soumissionnant en vue d’un contrat de $ ou plus, doit s’engager à mettre en place un programme d’accès à l’égalité conforme à la Charte des droits et libertés de la personne du Québec. Pour faire la preuve de son engagement à mettre en place un tel programme, l’entreprise joint à sa soumission un « Engagement au programme » (voir section du présent formulaire) ou, si elle en a déjà soumis un auparavant, elle indique le numéro officiel de l’« Attestation d’engagement » qui lui a été accordé ou le numéro du « Certificat de mérite » s’il y a lieu. Si un tel contrat ou sous-contrat doit être conclu avec une entreprise ou un sous-contractant d'une autre province ou territoire du Canada à l'égard duquel un programme d'équité en emploi est applicable et que cette entreprise ou ce sous-contractant compte plus de employés, celui-ci doit fournir au préalable une attestation selon laquelle il s'est engagé à implanter un programme d'équité en emploi conforme à celui de sa province ou de son territoire. Si un tel contrat ou sous-contrat doit être conclu avec une entreprise ou un sous-contractant du Québec ou d'une autre province ou territoire du Canada, qui est régi par la législation fédérale, qui compte plus de employés et à l'égard duquel un programme fédéral d'équité en emploi est applicable, celui-ci doit fournir au préalable une attestation selon laquelle il s'est engagé à implanter un programme d'équité en emploi conforme au programme fédéral. . IDENTIFICATION Nom de l’entreprise : NEQ de l’entreprise : Raison sociale : Adresse : Téléphone : Télécopieur : Nom du mandataire : Fonction : Téléphone : Signature : Date : . NÉCESSITÉ D’UN ENGAGEMENT D’UN PROGRAMME D’ÉQUITÉ EN EMPLOI . LA SOUMISSION PROVIENT DU QUÉBEC Si le nombre d’employé(e)s au Québec est supérieur à et que la soumission est supérieure ou égale à $, compléter la section .. Sinon, indiquer la ou les raison(s) de la non-nécessité d’un engagement au programme d’obligation contractuelle : ☐ Le montant de la soumission est inférieur à $. ☐ L’entreprise ne compte pas plus de employés permanents et employées permanentes à temps plein ou à temps partiel au Québec. . LA SOUMISSION PROVIENT DE L’EXTÉRIEUR DU QUÉBEC MAIS À L’INTÉRIEUR DU CANADA Si l’entreprise compte plus de employé(e)s au Canada et que la soumission est supérieure ou égale à $, compléter la section .. Sinon, indiquer la ou les raison(s) de la non-nécessité d’un engagement à un programme d’équité en emploi : ☐ Le montant de la soumission est inférieur à $. ☐ L’entreprise ne compte pas, au Canada, plus de employés permanents et employées permanentes à temps plein ou à temps partiel. ☐ L’entreprise n’a pas de programme applicable dans sa province ou son territoire. . ATTESTATION . LA SOUMISSION PROVIENT DU QUÉBEC ● Inscrire le numéro officiel de l’attestation d’engagement : A- ____________________ ou ● Inscrire le numéro de « Certificat de mérite » : C- ________________________ Si l’entreprise ne possède pas un tel document, elle doit compléter la section . . LA SOUMISSION PROVIENT DE L’EXTÉRIEUR DU QUÉBEC MAIS À L’INTÉRIEUR DU CANADA Cochez une option parmi les quatre suivantes : ☐ L’entreprise est déjà engagée à implanter un programme d’équité en emploi conforme à celui de sa province ou de son territoire (dans le cas où les dispositions d’un programme d’équité en emploi sont applicables). L’attestation d’engagement doit être fournie. ☐ L’entreprise est déjà engagée à implanter un programme d’équité en emploi conforme au programme fédéral (dans le cas où les dispositions d’un programme d’équité en emploi sont applicables). L’attestation d’engagement doit être fournie. ☐ L’entreprise n’a jamais fait affaire avec le gouvernement de sa province ou de son territoire ou avec le gouvernement fédéral. ☐ L’entreprise n’a pas de programme applicable dans sa province ou son territoire. J’atteste que mon entreprise est engagée ou assujettie audit programme, s’il en est. Je reconnais que le non-respect des exigences de ce programme a pour effet d’interdire la conclusion de tout contrat jusqu’à ce que mon entreprise se conforme aux exigences du programme. Nom du mandataire : Signature (mandataire de l’entreprise) : Fonction : Date : . ENGAGEMENT AU PROGRAMME * Raison sociale : Adresse : Téléphone : Télécopieur : Nombre d’employé(e)s au Québec : Afin de me conformer au programme d’obligation contractuelle, je, au nom de l’entreprise que je représente, m’engage advenant la conclusion d’un contrat de $ ou plus : ☐ À implanter un programme d’accès à l’égalité conforme à la Charte des droits et libertés de la personne du Québec et selon les modalités énoncées à la section du présent formulaire. Je reconnais que le non-respect de cet engagement a pour effet d’annuler mon « Attestation d’engagement » et d’interdire la conclusion de tout contrat jusqu’à ce que je détienne une nouvelle attestation d’engagement. Nom du mandataire : Signature (mandataire de l’entreprise) : Fonction : Date : *Prendre note que l’attestation d’engagement au programme sera délivrée uniquement à l’entreprise qui obtiendra le contrat. SECTION RÉSERVÉE À L’ORGANISME PUBLIC - Conclusion du contrat Nature du contrat : Contrat de biens ☐ Contrat de services ☐ Numéro du contrat : __________________ Date de conclusion : __________________________ Montant du contrat : ________________________ Durée du contrat : du ___________________________ au _____________________________________ Nom de l’organisme public : _____________________ Numéro de l’organisme public : ____________ Adresse de l’organisme public : __________________________________________________________ Nom du responsable : __________________________________________________________________ Fonction du responsable : _________________________________ Téléphone : ____________________ Signature du responsable : ________________________________ Date : ________________________ . CONTENU DE L’ENGAGEMENT – MODALITÉ DE MISE EN OEUVRE . Information, par le mandataire général de l’entreprise, auprès du personnel, du syndicat ou de l’association d’employés et d’employées, de l’engagement pris par l’entreprise de mettre sur pied un programme d’accès à l’égalité conforme à la Charte des droits et libertés de la personne du Québec. . Nomination de cadres supérieurs responsables de la mise en œuvre du programme. . Mise en œuvre du programme en quatre phases. . Mise en œuvre du programme en quatre phases. .. Détermination d’une sous-utilisation des membres des groupes cibles à l’aide des analyses de l’effectif et de la disponibilité. .. Dépistage des règles ou pratiques de l’entreprise, qui pourraient avoir ou avoir eu des effets discriminatoires sur les membres des groupes cibles, à l’aide de l’analyse du système d’emploi. . Élaboration du programme. .. Fixation des objectifs numériques. .. Choix des mesures de redressement pour contrer la sous-utilisation. .. Choix des mesures d’égalité de chances pour contrer les règles ou pratiques discriminatoires. .. Choix des mesures de soutien, s’il y a lieu. .. Établissement d’un échéancier de réalisation .. Choix des moyens de contrôle. . Implantation du programme. . Évaluation du programme. . Transmission à la Commission des droits de la personne et de la jeunesse, dans les délais prévus, des documents suivants aux fins de vérification de conformité aux engagements pris et aux « lignes directrices concernant la validité des programmes d’accès à l’égalité établis volontairement dans le secteur de l’emploi » émis par la Commission des droits de la personne et des droits de la jeunesse : ● dans les neuf mois qui suivent la conclusion du contrat : résultats de la phase de diagnostic (.); ● dans les quatre mois suivants : le plan du programme (.); ● à tous les deux ans et jusqu’à la fin du programme : production d’un rapport d’étapes sur l’implantation du programme. DOCUMENT NO H. - - ÉDILEX INC. DOCUMENT NO G. FORMULAIRE DE DROIT COMMERCIAL COLLECTION GESTION JURIDIQUE D’ENTREPRISE Loi sur les contrats des organismes publics Général DATE D’IMPRESSION : -- : PM - - CONTRAT A - RÉGIE Loi sur les contrats des organismes publics Général - Page de - DATE D’IMPRESSION : -- : PM - - CONTRAT A - RÉGIE\n"
     ]
    }
   ],
   "source": [
    "# Show one random file\n",
    "show_random_file(os.path.join(os.getcwd(), \"text_files\"))"
   ]
  },
  {
   "cell_type": "markdown",
   "metadata": {},
   "source": [
    "# 3. Spelling correction"
   ]
  },
  {
   "cell_type": "code",
   "execution_count": null,
   "metadata": {},
   "outputs": [],
   "source": []
  },
  {
   "cell_type": "code",
   "execution_count": null,
   "metadata": {},
   "outputs": [],
   "source": []
  },
  {
   "cell_type": "code",
   "execution_count": null,
   "metadata": {},
   "outputs": [],
   "source": []
  },
  {
   "cell_type": "markdown",
   "metadata": {},
   "source": [
    "## 2. Tokenization"
   ]
  },
  {
   "cell_type": "code",
   "execution_count": null,
   "metadata": {},
   "outputs": [],
   "source": []
  },
  {
   "cell_type": "code",
   "execution_count": null,
   "metadata": {},
   "outputs": [],
   "source": []
  },
  {
   "cell_type": "markdown",
   "metadata": {},
   "source": [
    "# 4. Contraction mapping"
   ]
  },
  {
   "cell_type": "code",
   "execution_count": null,
   "metadata": {},
   "outputs": [],
   "source": []
  },
  {
   "cell_type": "code",
   "execution_count": null,
   "metadata": {},
   "outputs": [],
   "source": []
  },
  {
   "cell_type": "code",
   "execution_count": null,
   "metadata": {},
   "outputs": [],
   "source": []
  },
  {
   "cell_type": "code",
   "execution_count": null,
   "metadata": {},
   "outputs": [],
   "source": []
  },
  {
   "cell_type": "markdown",
   "metadata": {},
   "source": [
    "# 5. Stemming"
   ]
  },
  {
   "cell_type": "code",
   "execution_count": null,
   "metadata": {},
   "outputs": [],
   "source": []
  },
  {
   "cell_type": "code",
   "execution_count": null,
   "metadata": {},
   "outputs": [],
   "source": []
  },
  {
   "cell_type": "code",
   "execution_count": null,
   "metadata": {},
   "outputs": [],
   "source": []
  },
  {
   "cell_type": "code",
   "execution_count": null,
   "metadata": {},
   "outputs": [],
   "source": []
  },
  {
   "cell_type": "markdown",
   "metadata": {},
   "source": [
    "# 6. Symbols handling"
   ]
  },
  {
   "cell_type": "code",
   "execution_count": null,
   "metadata": {},
   "outputs": [],
   "source": []
  },
  {
   "cell_type": "code",
   "execution_count": null,
   "metadata": {},
   "outputs": [],
   "source": []
  },
  {
   "cell_type": "code",
   "execution_count": null,
   "metadata": {},
   "outputs": [],
   "source": []
  },
  {
   "cell_type": "markdown",
   "metadata": {},
   "source": [
    "# 7. Stopwords handling"
   ]
  },
  {
   "cell_type": "code",
   "execution_count": null,
   "metadata": {},
   "outputs": [],
   "source": []
  },
  {
   "cell_type": "code",
   "execution_count": null,
   "metadata": {},
   "outputs": [],
   "source": []
  },
  {
   "cell_type": "code",
   "execution_count": null,
   "metadata": {},
   "outputs": [],
   "source": []
  },
  {
   "cell_type": "code",
   "execution_count": null,
   "metadata": {},
   "outputs": [],
   "source": []
  },
  {
   "cell_type": "markdown",
   "metadata": {},
   "source": [
    "# Cleaning ?"
   ]
  },
  {
   "cell_type": "code",
   "execution_count": null,
   "metadata": {},
   "outputs": [],
   "source": []
  }
 ],
 "metadata": {
  "kernelspec": {
   "display_name": "Python 3",
   "language": "python",
   "name": "python3"
  },
  "language_info": {
   "codemirror_mode": {
    "name": "ipython",
    "version": 3
   },
   "file_extension": ".py",
   "mimetype": "text/x-python",
   "name": "python",
   "nbconvert_exporter": "python",
   "pygments_lexer": "ipython3",
   "version": "3.7.6"
  }
 },
 "nbformat": 4,
 "nbformat_minor": 4
}
