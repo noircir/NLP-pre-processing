{
 "cells": [
  {
   "cell_type": "markdown",
   "metadata": {},
   "source": [
    "# NLP data pre-processing I : converting .docx files into .txt files"
   ]
  },
  {
   "cell_type": "markdown",
   "metadata": {},
   "source": [
    "### 1. Rename Word documents to UUID names"
   ]
  },
  {
   "cell_type": "code",
   "execution_count": 118,
   "metadata": {},
   "outputs": [],
   "source": [
    "# If needed, check installed Python versions (different conda environments have different versions of Python) \n",
    "# and executable Python (where your system looks for pip-installed packages).\n",
    "# import sys\n",
    "# print(sys.path)\n",
    "# print(sys.executable)"
   ]
  },
  {
   "cell_type": "code",
   "execution_count": null,
   "metadata": {},
   "outputs": [],
   "source": [
    "# Install docx2txt package where your executable Python is. \n",
    "# Ex:\n",
    "#!~/anaconda3/bin/python -m pip install docx2txt"
   ]
  },
  {
   "cell_type": "code",
   "execution_count": 140,
   "metadata": {},
   "outputs": [],
   "source": [
    "import os\n",
    "import uuid\n",
    "from shutil import copyfile\n",
    "import docx2txt"
   ]
  },
  {
   "cell_type": "code",
   "execution_count": null,
   "metadata": {},
   "outputs": [],
   "source": [
    "# To start, your directory has a single \"source_files\" directory with document folders containing Word files. \n",
    "\n",
    "# NOTE: any zipped Word files should be unzipped in the same directory(subdirectory), before proceeding."
   ]
  },
  {
   "cell_type": "code",
   "execution_count": 141,
   "metadata": {},
   "outputs": [],
   "source": [
    "def create_directory_if_not_exists(targetDir):\n",
    "    if not os.path.exists(targetDir):\n",
    "        os.mkdir(targetDir)\n",
    "        print(\"Directory '\" + targetDir +  \"' created \")\n",
    "    else:    \n",
    "        print(\"Directory '\" + targetDir +  \"' already exists\")\n",
    "    return os.path.join(os.getcwd(), targetDir)\n",
    "\n",
    "\n",
    "def copytree(src, dst, symlinks=False, ignore=None):\n",
    "    for item in os.listdir(src):\n",
    "        s = os.path.join(src, item)\n",
    "        d = os.path.join(dst, item)\n",
    "        if os.path.isdir(s):\n",
    "            shutil.copytree(s, d, symlinks, ignore)\n",
    "        else:\n",
    "            shutil.copy2(s, d)\n",
    "                    \n",
    "                    \n",
    "def count_files(folder):\n",
    "    count = 0\n",
    "    for file in os.listdir(os.path.join(os.getcwd(), folder)):\n",
    "        count += 1\n",
    "    return count\n",
    "    \n",
    "\n",
    "def check_if_dir_exists(targetDir):\n",
    "    if not os.path.exists(targetDir):\n",
    "        print(\"Directory '\" + targetDir +  \"' does not exist.\")\n",
    "    else:    \n",
    "        print(\"Directory '\" + targetDir +  \"' exists.\")"
   ]
  },
  {
   "cell_type": "code",
   "execution_count": 142,
   "metadata": {},
   "outputs": [
    {
     "name": "stdout",
     "output_type": "stream",
     "text": [
      "Directory 'temp1' created \n"
     ]
    }
   ],
   "source": [
    "# 1. Duplicate \"source_files\" directory\n",
    "\n",
    "source_dir = os.path.join(os.getcwd(), \"source_files\")\n",
    "target_dir = create_directory_if_not_exists(\"temp1\")\n",
    "\n",
    "copytree(source_dir, target_dir)"
   ]
  },
  {
   "cell_type": "code",
   "execution_count": 143,
   "metadata": {},
   "outputs": [
    {
     "name": "stdout",
     "output_type": "stream",
     "text": [
      "Directory 'temp2' created \n"
     ]
    }
   ],
   "source": [
    "# 2. Give docx files UUID names and place them in temp2 directory. \n",
    "\n",
    "source_dir = os.path.join(os.getcwd(), \"temp1\")\n",
    "target_dir = create_directory_if_not_exists(\"temp2\")\n",
    "\n",
    "for foldername in os.listdir(source_dir):\n",
    "    \n",
    "    # Skip hidden \".DS_Store\" files in MacOS\n",
    "    if foldername[0] != \".\":  \n",
    "        subdirectory = os.path.join(os.getcwd(), \"temp1\", foldername)\n",
    "        \n",
    "        for filename in os.listdir(subdirectory):\n",
    "            if filename[0] != \".\":\n",
    "                file, extension = os.path.splitext(filename)\n",
    "                # replace file name with uuid-name \n",
    "                unique_filename = str(uuid.uuid4()) + extension\n",
    "                # rename original file with uuid-name and move into 'temp2' directory\n",
    "                os.rename(os.path.join(subdirectory,  filename), os.path.join(target_dir, unique_filename))"
   ]
  },
  {
   "cell_type": "code",
   "execution_count": 144,
   "metadata": {},
   "outputs": [
    {
     "name": "stdout",
     "output_type": "stream",
     "text": [
      "65\n"
     ]
    }
   ],
   "source": [
    "print(count_files(target_dir))"
   ]
  },
  {
   "cell_type": "markdown",
   "metadata": {},
   "source": [
    "### 2. Create simple text files from Word documents"
   ]
  },
  {
   "cell_type": "code",
   "execution_count": 145,
   "metadata": {},
   "outputs": [
    {
     "name": "stdout",
     "output_type": "stream",
     "text": [
      "Directory 'text_files' created \n",
      "2b6635e7-3123-42ca-ace7-5b9792a9013b.txt\n",
      "5a589c93-af64-4405-b224-9b945183f2dd.txt\n",
      "f622cee8-8e29-4d5a-960f-5da77bfd659f.txt\n",
      "22e8155e-262d-4c10-93fd-52c8d04a18e0.txt\n",
      "715b8995-770a-46b6-9992-774f5424a218.txt\n",
      "4aae385b-e09f-43fd-bbb3-46fd67a15c85.txt\n",
      "0b54026b-385c-410a-87f9-8a4fbf3ba553.txt\n",
      "d82ee124-4b0a-4930-bc77-60a53e4066df.txt\n",
      "b53c64b1-820a-44f3-a63a-5a23bda86508.txt\n",
      "ca0ac6cc-0734-44fb-a023-32bfabf720b3.txt\n",
      "8f06db39-3a93-4d13-8e31-414d6457968d.txt\n",
      "e782836d-e99b-4629-a062-4ad9dc0945bb.txt\n",
      "d94ed1f5-bc17-4731-9770-56064ba54141.txt\n",
      "22a81926-009c-48ff-bca9-e026d505fc86.txt\n",
      "b5906e66-47ff-48f2-8684-2207db8cf0d6.txt\n",
      "673ca2ad-7ef7-405a-9330-7e699d87c2b1.txt\n",
      "704c732d-4901-4fd1-ad32-fb27d9a08e35.txt\n",
      "ac7622d4-7ef3-4f7e-878c-1f3edc794af3.txt\n",
      "e408d310-1ecb-441c-b9f6-b3a9805f0f9f.txt\n",
      "023cf4ec-6ee4-42a4-bd67-8ff602aff091.txt\n",
      "fd6c44b0-162c-4451-8d53-5bfaa8c41f1e.txt\n",
      "7fa67f86-9b80-4d07-8ab9-1b11f62c0f49.txt\n",
      "66a49077-bd9d-4f82-8023-02502266ba79.txt\n",
      "0a731899-5e1c-48b0-9dcc-c7ca4dc8f8b6.txt\n",
      "37c5a79d-19e7-4809-aaa8-b12bd570ccbf.txt\n",
      "870279f9-eda3-4ea4-a095-8d7a5f9f08de.txt\n",
      "ebd9ab5a-7f1e-40f6-81f4-fc3fcdf6b921.txt\n",
      "3d0c577f-75c2-4c63-bb2c-ad1697d4fea2.txt\n",
      "ec8b76fa-4b42-4777-b147-3f8a477836d6.txt\n",
      "ce03f695-e133-476b-897f-09e91595fda7.txt\n",
      "16f80b10-3757-4846-91b6-9beb5fd067d6.txt\n",
      "4acb67c1-054f-40fd-b770-d68aa8cb4805.txt\n",
      "1a3a6332-980d-4756-987f-64bb755beab0.txt\n",
      "d61bda38-67d4-43f1-8cd5-2977aa65ae8e.txt\n",
      "2f5e9272-8e5e-4153-8938-543e972186de.txt\n",
      "a7ea9a23-1d8e-43bb-b2ae-4b5b912302ca.txt\n",
      "9ef01f46-a177-400f-9901-13525e12b917.txt\n",
      "79b41956-d425-432b-8a58-cb7d89ad757c.txt\n",
      "5b2757a6-538e-463e-a975-0cd201dcb075.txt\n",
      "10a37f50-23c8-4d03-af87-36a0521052b0.txt\n",
      "5ca12910-068f-47dc-aeff-35048de5c017.txt\n",
      "fb0eb46e-54dd-42e5-8581-c662406b0f6f.txt\n",
      "2bbb612e-895c-497e-91b0-bc8e7917d751.txt\n",
      "b7138bd3-1d65-481b-bb45-253ac2056dcf.txt\n",
      "4321bd50-8805-4f37-870d-a84d5c537de7.txt\n",
      "7b092464-9b66-4ac3-9843-0976d8719491.txt\n",
      "aa45849b-848b-40ff-a875-9b44a489aa15.txt\n",
      "86cc568a-6f0c-48b5-9b57-1bcf05e39653.txt\n",
      "6d6c7485-d4d3-4c75-8ed5-6b27ca401ed6.txt\n",
      "19463017-7790-473c-b4a5-60b4c55aaf9f.txt\n",
      "87a9abec-25ef-473f-be23-f45883c3a949.txt\n",
      "dbfe69ca-a2d2-413a-9fa2-f41d13523ece.txt\n",
      "4ad2cf4b-8b85-4418-9149-4ec103c9e942.txt\n",
      "2c5d218a-3df6-4b23-a5b6-a9dd93c2ed4a.txt\n",
      "64c97d63-20b3-4bc1-9f76-6374fd6220c6.txt\n",
      "4d64ae92-83a1-42b4-9e2f-e007361190cb.txt\n",
      "6ba2c291-3ff1-47fc-a7ff-911b6aa6b0dd.txt\n",
      "9e6a305c-07a3-44fc-a3da-15fb9b6fec2f.txt\n",
      "3430a0bb-27ad-4998-938c-1fd568632e99.txt\n",
      "a1ea2946-5dfd-46dc-942c-b18e37999b3c.txt\n",
      "1764cbe2-d2c2-49d1-ae92-bcc0bb1bcc5c.txt\n",
      "26675ded-bd4f-488f-87bd-f56f93db5b4d.txt\n",
      "3f11f0ae-ebe2-4895-80b3-ad7340fff459.txt\n",
      "5245e4d6-3d03-46ea-89dc-6bd3d628dc54.txt\n",
      "ea565437-fad0-4100-a74b-c365726ef46b.txt\n"
     ]
    }
   ],
   "source": [
    "source_dir = os.path.join(os.getcwd(), \"temp2\")\n",
    "target_dir = create_directory_if_not_exists(\"text_files\")\n",
    "\n",
    "for process_file in  os.listdir(source_dir):\n",
    "    \n",
    "    if process_file[0] != \".\":\n",
    "        file, _ = os.path.splitext(process_file)\n",
    "\n",
    "        # Create a new text file name by concatenating the .txt extension to file UUID\n",
    "        dest_file = file + '.txt'\n",
    "        print(dest_file)\n",
    "        \n",
    "        #extract text from the file\n",
    "        content = docx2txt.process(os.path.join(source_dir, process_file))\n",
    "\n",
    "        write_text_file = open(os.path.join(target_dir, dest_file), \"w+\")\n",
    "\n",
    "        #write the content and close the newly created file\n",
    "        write_text_file.write(content)\n",
    "        write_text_file.close()"
   ]
  },
  {
   "cell_type": "code",
   "execution_count": 146,
   "metadata": {},
   "outputs": [
    {
     "name": "stdout",
     "output_type": "stream",
     "text": [
      "65\n"
     ]
    }
   ],
   "source": [
    "print(count_files(target_dir))"
   ]
  },
  {
   "cell_type": "code",
   "execution_count": 147,
   "metadata": {},
   "outputs": [],
   "source": [
    "# 3. Delete temp1 and temp2 directories.\n",
    "dir1 = os.path.join(os.getcwd(), \"temp1\")\n",
    "dir2 = os.path.join(os.getcwd(), \"temp2\")\n",
    "shutil.rmtree(dir1)\n",
    "shutil.rmtree(dir2)"
   ]
  },
  {
   "cell_type": "code",
   "execution_count": 148,
   "metadata": {},
   "outputs": [
    {
     "name": "stdout",
     "output_type": "stream",
     "text": [
      "Directory 'temp1' does not exist.\n",
      "Directory 'temp2' does not exist.\n"
     ]
    }
   ],
   "source": [
    "check_if_dir_exists(\"temp1\")\n",
    "check_if_dir_exists(\"temp2\")"
   ]
  },
  {
   "cell_type": "code",
   "execution_count": null,
   "metadata": {},
   "outputs": [],
   "source": []
  }
 ],
 "metadata": {
  "kernelspec": {
   "display_name": "Python 3",
   "language": "python",
   "name": "python3"
  },
  "language_info": {
   "codemirror_mode": {
    "name": "ipython",
    "version": 3
   },
   "file_extension": ".py",
   "mimetype": "text/x-python",
   "name": "python",
   "nbconvert_exporter": "python",
   "pygments_lexer": "ipython3",
   "version": "3.7.6"
  }
 },
 "nbformat": 4,
 "nbformat_minor": 4
}
